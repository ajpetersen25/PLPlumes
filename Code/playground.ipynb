{
 "cells": [
  {
   "cell_type": "code",
   "execution_count": 1,
   "metadata": {},
   "outputs": [],
   "source": [
    "from __future__ import division\n",
    "import numpy as np\n",
    "import numpy.ma as nma\n",
    "from pio import imgio\n",
    "import apply_mask\n",
    "import matplotlib.pyplot as plt\n",
    "from matplotlib import cm\n",
    "from matplotlib import rc\n",
    "rc('text', usetex=True)\n",
    "import scipy.ndimage as ndimage\n",
    "from scipy.optimize import curve_fit\n",
    "\n",
    "%matplotlib inline"
   ]
  },
  {
   "cell_type": "code",
   "execution_count": 2,
   "metadata": {},
   "outputs": [],
   "source": [
    "# Image, Velocity & Mask File Definitions\n",
    "img_file = '../Analysis/test/cam2_still_50a.bsub.img'\n",
    "W_file = '../Analysis/test/cam2_still_50a.bsub.0032.def.W.npy'\n",
    "msk_file = '../Analysis/test/cam2_still_50a.bsub.0032.def.mask.npy'\n",
    "# other files\n",
    "# time-averaged mask\n",
    "tave_mask = '../Analysis/test/cam2_still_50a.bsub.0032.def.mask.tave_mask.npy'\n",
    "# average vertical velocity\n",
    "avg_W = '../Analysis/test/cam2_still_50a.bsub.0032.def.W.ave.npy'\n",
    "#fluctuating vertical velocity\n",
    "flct_W = '../Analysis/test/cam2_still_50a.bsub.0032.def.W.flct.npy'\n",
    "deltat = 1/300 #s\n",
    "cal = 1.8e3 #pix/m\n",
    "D_0 = 0.0508 #m"
   ]
  },
  {
   "cell_type": "code",
   "execution_count": 3,
   "metadata": {},
   "outputs": [
    {
     "name": "stdout",
     "output_type": "stream",
     "text": [
      "No file found: ../Analysis/test/cam2_still_50a.bsub.img\n",
      "This instance will create new file\n"
     ]
    }
   ],
   "source": [
    "# load in files\n",
    "img = imgio.imgio(img_file)\n",
    "piv = apply_mask.apply_mask(W_file,msk_file)\n",
    "\n",
    "W_bar = apply_mask.apply_mask(avg_W,tave_mask)\n",
    "W_prime = apply_mask.apply_mask(flct_W,msk_file)"
   ]
  },
  {
   "cell_type": "markdown",
   "metadata": {},
   "source": [
    "### Particle Flux"
   ]
  },
  {
   "cell_type": "code",
   "execution_count": null,
   "metadata": {},
   "outputs": [],
   "source": [
    "# Average concentration map (aka average of raw images)\n",
    "light_map = np.loadtxt('../Analysis/test/cam2_ave_lightmap.txt.gz')\n",
    "I_correction = ndimage.filters.gaussian_filter((np.max(light_map)/light_map),50)\n",
    "mean_c = img.read_frame2d(0).astype(int)\n",
    "for f in range(1,img.it):\n",
    "    t = img.read_frame2d(f)\n",
    "    t[t<150]=0\n",
    "    mean_c += t\n",
    "mean_c = (mean_c / img.it)*I_correction"
   ]
  },
  {
   "cell_type": "code",
   "execution_count": null,
   "metadata": {},
   "outputs": [],
   "source": [
    "max_phi = 1e-3\n",
    "mean_c_phi = mean_c/np.max(mean_c)*max_phi"
   ]
  },
  {
   "cell_type": "code",
   "execution_count": 7,
   "metadata": {},
   "outputs": [
    {
     "ename": "NameError",
     "evalue": "name 'mean_c' is not defined",
     "output_type": "error",
     "traceback": [
      "\u001b[0;31m---------------------------------------------------------------------------\u001b[0m",
      "\u001b[0;31mNameError\u001b[0m                                 Traceback (most recent call last)",
      "\u001b[0;32m<ipython-input-7-7e0a1b297e44>\u001b[0m in \u001b[0;36m<module>\u001b[0;34m()\u001b[0m\n\u001b[1;32m     23\u001b[0m \u001b[0;31m#R =\u001b[0m\u001b[0;34m\u001b[0m\u001b[0;34m\u001b[0m\u001b[0;34m\u001b[0m\u001b[0m\n\u001b[1;32m     24\u001b[0m \u001b[0max\u001b[0m\u001b[0;34m[\u001b[0m\u001b[0;36m1\u001b[0m\u001b[0;34m]\u001b[0m\u001b[0;34m.\u001b[0m\u001b[0mplot\u001b[0m\u001b[0;34m(\u001b[0m\u001b[0mcenterline_pix\u001b[0m\u001b[0;34m[\u001b[0m\u001b[0;36m1\u001b[0m\u001b[0;34m]\u001b[0m\u001b[0;34m/\u001b[0m\u001b[0mcal\u001b[0m\u001b[0;34m,\u001b[0m\u001b[0mcenterline_pix\u001b[0m\u001b[0;34m[\u001b[0m\u001b[0;36m0\u001b[0m\u001b[0;34m]\u001b[0m\u001b[0;34m/\u001b[0m\u001b[0mcal\u001b[0m\u001b[0;34m,\u001b[0m\u001b[0;34m'wx'\u001b[0m\u001b[0;34m)\u001b[0m\u001b[0;34m;\u001b[0m\u001b[0;34m\u001b[0m\u001b[0;34m\u001b[0m\u001b[0m\n\u001b[0;32m---> 25\u001b[0;31m \u001b[0max\u001b[0m\u001b[0;34m[\u001b[0m\u001b[0;36m0\u001b[0m\u001b[0;34m]\u001b[0m\u001b[0;34m.\u001b[0m\u001b[0mplot\u001b[0m\u001b[0;34m(\u001b[0m\u001b[0mnp\u001b[0m\u001b[0;34m.\u001b[0m\u001b[0mwhere\u001b[0m\u001b[0;34m(\u001b[0m\u001b[0mmean_c\u001b[0m\u001b[0;34m==\u001b[0m\u001b[0mnp\u001b[0m\u001b[0;34m.\u001b[0m\u001b[0mmax\u001b[0m\u001b[0;34m(\u001b[0m\u001b[0mmean_c\u001b[0m\u001b[0;34m)\u001b[0m\u001b[0;34m)\u001b[0m\u001b[0;34m[\u001b[0m\u001b[0;36m1\u001b[0m\u001b[0;34m]\u001b[0m\u001b[0;34m/\u001b[0m\u001b[0mcal\u001b[0m\u001b[0;34m,\u001b[0m\u001b[0mnp\u001b[0m\u001b[0;34m.\u001b[0m\u001b[0mwhere\u001b[0m\u001b[0;34m(\u001b[0m\u001b[0mmean_c\u001b[0m\u001b[0;34m==\u001b[0m\u001b[0mnp\u001b[0m\u001b[0;34m.\u001b[0m\u001b[0mmax\u001b[0m\u001b[0;34m(\u001b[0m\u001b[0mmean_c\u001b[0m\u001b[0;34m)\u001b[0m\u001b[0;34m)\u001b[0m\u001b[0;34m[\u001b[0m\u001b[0;36m0\u001b[0m\u001b[0;34m]\u001b[0m\u001b[0;34m/\u001b[0m\u001b[0mcal\u001b[0m\u001b[0;34m,\u001b[0m\u001b[0;34m'ro'\u001b[0m\u001b[0;34m)\u001b[0m\u001b[0;34m\u001b[0m\u001b[0;34m\u001b[0m\u001b[0m\n\u001b[0m\u001b[1;32m     26\u001b[0m \u001b[0max\u001b[0m\u001b[0;34m[\u001b[0m\u001b[0;36m0\u001b[0m\u001b[0;34m]\u001b[0m\u001b[0;34m.\u001b[0m\u001b[0mlegend\u001b[0m\u001b[0;34m(\u001b[0m\u001b[0;34m[\u001b[0m\u001b[0;34m'Maximum corrected brightness'\u001b[0m\u001b[0;34m]\u001b[0m\u001b[0;34m,\u001b[0m\u001b[0mloc\u001b[0m\u001b[0;34m=\u001b[0m\u001b[0;36m4\u001b[0m\u001b[0;34m)\u001b[0m\u001b[0;34m;\u001b[0m\u001b[0;34m\u001b[0m\u001b[0;34m\u001b[0m\u001b[0m\n",
      "\u001b[0;31mNameError\u001b[0m: name 'mean_c' is not defined"
     ]
    },
    {
     "data": {
      "image/png": "[encoded data removed]",
      "text/plain": [
       "<matplotlib.figure.Figure at 0x7f4129070610>"
      ]
     },
     "metadata": {
      "needs_background": "light"
     },
     "output_type": "display_data"
    }
   ],
   "source": [
    "f,ax = plt.subplots(1,2,figsize=(10,6),sharey=True)\n",
    "#X,Z = np.meshgrid(np.linspace(0,img.ix-1,img.ix)/cal, np.linspace(0,img.iy-1,img.iy)/cal)\n",
    "#ax[0].pcolormesh(X,Z,mean_c,cmap=cm.gray,vmin=1000,vmax=10000);\n",
    "#ax[0].set_title(r'$\\bar{c}$',y=1.05,fontsize=18);\n",
    "Xv,Zv = np.meshgrid(np.linspace(0,W_bar.shape[1]-1,W_bar.shape[1])*16/cal, np.linspace(0,W_bar.shape[0]-1,W_bar.shape[0])*16/cal)\n",
    "ax[1].pcolormesh(Xv,Zv,W_bar,cmap=cm.magma);\n",
    "ax[1].plot()\n",
    "ax[1].set_title(r'$\\bar{W}$',y=1.05,fontsize=18);\n",
    "ax[1].set_xlabel('[m]',labelpad=15,fontsize=18)\n",
    "#ax[0].set_xlabel('[m]',labelpad=15,fontsize=18)\n",
    "#ax[0].set_ylabel('[m]',labelpad=15,fontsize=18)\n",
    "#ax[0].set_ylim(0,np.max(Z))\n",
    "plt.tight_layout()\n",
    "centerline = np.zeros((2,W_bar.shape[0]))\n",
    "for r in range(0,W_bar.shape[0]):\n",
    "    centerline[0,r] = r\n",
    "    try:\n",
    "        centerline[1,r] = (np.where(W_bar[r,:] == nma.min(W_bar[:,:],axis=1)[r])[0])\n",
    "    except:\n",
    "        centerline[1,r] = np.nan\n",
    "centerline_pix = (centerline*16+16.5)\n",
    "Z = (800-centerline_pix[0])/cal/D_0\n",
    "#R = \n",
    "ax[1].plot(centerline_pix[1]/cal,centerline_pix[0]/cal,'wx');\n",
    "ax[0].plot(np.where(mean_c==np.max(mean_c))[1]/cal,np.where(mean_c==np.max(mean_c))[0]/cal,'ro')\n",
    "ax[0].legend(['Maximum corrected brightness'],loc=4);"
   ]
  },
  {
   "cell_type": "code",
   "execution_count": null,
   "metadata": {},
   "outputs": [],
   "source": []
  },
  {
   "cell_type": "code",
   "execution_count": null,
   "metadata": {},
   "outputs": [],
   "source": [
    "# calculate mean concentration on PIV grid\n",
    "c_map = np.zeros(W_bar.shape)\n",
    "c_map2 = np.zeros(W_bar.shape)\n",
    "mean_c2 = mean_c/I_correction\n",
    "for r in range(8,img.iy-8,16):\n",
    "    for c in range(8,img.ix-8,16):\n",
    "        #print int(r/16),int(c/16) \n",
    "        c_map[int(r/16),int(c/16)] = np.mean(mean_c_phi[slice(r,r+16,1),slice(c,c+16,1)])\n",
    "        #c_map2[int(r/16),int(c/16)] = np.mean(mean_c2[slice(r,r+16,1),slice(c,c+16,1)])"
   ]
  },
  {
   "cell_type": "code",
   "execution_count": 155,
   "metadata": {},
   "outputs": [],
   "source": [
    "\n",
    "W_plume=W_bar#nma.masked_greater(W_bar,-5)\n",
    "#(c_map[:,0:38]).max()\n"
   ]
  },
  {
   "cell_type": "code",
   "execution_count": 649,
   "metadata": {},
   "outputs": [
    {
     "data": {
      "image/png": "[encoded data removed]",
      "text/plain": [
       "<matplotlib.figure.Figure at 0x7f3ae6ad3650>"
      ]
     },
     "metadata": {
      "needs_background": "light"
     },
     "output_type": "display_data"
    }
   ],
   "source": [
    "centerline = np.zeros((2,W_bar.shape[0]))\n",
    "for r in range(0,W_bar.shape[0]):\n",
    "    centerline[0,r] = r\n",
    "    try:\n",
    "        centerline[1,r] = (np.where(W_bar[r,:] == nma.min(W_bar[:,:],axis=1)[r])[0])\n",
    "    except:\n",
    "        centerline[1,r] = np.nan\n",
    "centerline_pix = (centerline*16+16.5)\n",
    "Z = (800-centerline_pix[0])/cal/D_0\n",
    "#centerline concentration and velocity\n",
    "f,ax = plt.subplots(1,2,figsize=(10,6),sharey=True)\n",
    "#ax[0].plot(c_map[centerline[0][1:-1].astype('int'),\n",
    "#                 centerline[1][1:-1].astype('int')]/np.max(c_map),Z[1:-1],'rs',\n",
    "#          c_map2[centerline[0][1:-1].astype('int'),\n",
    "#                 centerline[1][1:-1].astype('int')]/np.max(c_map2),Z[1:-1],'b^')\n",
    "#ax[0].plot(np.sum(c_map,axis=1)[1:-1]/np.max(np.sum(c_map,axis=1)[1:-1]),Z[1:-1],'rs',\n",
    "#          np.sum(c_map2,axis=1)[1:-1]/np.max(np.sum(c_map2,axis=1)[1:-1]),Z[1:-1],'b^')\n",
    "ax[0].legend(['Corrected','Uncorrected'])\n",
    "ax[0].set_xlabel('$C/C_{max}$',labelpad=15,fontsize=18)\n",
    "ax[0].set_ylabel('$z/D_0$',labelpad=15,fontsize=18)\n",
    "ax[0].set_ylim(9,0);\n",
    "\n",
    "ax[1].plot(nma.min(W_plume[:,:],axis=1)/cal/deltat,Z,'ko')\n",
    "#ax[1].plot(np.polyval(np.polyfit(Z[35:-1],nma.min(W_bar[:,:],axis=1)[35:-1].data,1)/cal/deltat,Z[35:-1]),Z[35:-1],'g-',linewidth=4)\n",
    "#ax[1].text(-1.9,1.5,r'$\\frac{dw_z}{dz}=-7.8$ [1/s]',fontsize=15,color='darkgreen')\n",
    "#ax[1].set_xlabel('$W_c$ [m/s]',labelpad=15,fontsize=18);\n",
    "ax[1].plot(tophat,Z[1:-1],'rx')\n",
    "ax[1].plot(-wp[0:-1],s/cal/D_0,'b-');\n"
   ]
  },
  {
   "cell_type": "code",
   "execution_count": 348,
   "metadata": {},
   "outputs": [
    {
     "data": {
      "text/plain": [
       "[<matplotlib.lines.Line2D at 0x7f3b3b897250>]"
      ]
     },
     "execution_count": 348,
     "metadata": {},
     "output_type": "execute_result"
    },
    {
     "data": {
      "image/png": "[encoded data removed]",
      "text/plain": [
       "<matplotlib.figure.Figure at 0x7f3b3bb0d790>"
      ]
     },
     "metadata": {
      "needs_background": "light"
     },
     "output_type": "display_data"
    }
   ],
   "source": [
    "plt.plot(Z,nma.min(W_plume[:,:],axis=1)/cal/deltat/2,'k.')\n",
    "p=np.interp(s/cal/D_0,np.flip(Z[1:-1]),np.flip(nma.min(W_plume[1:-1,:],axis=1)/cal/deltat/2))\n",
    "plt.plot(s/cal/D_0,p , 'r--')"
   ]
  },
  {
   "cell_type": "code",
   "execution_count": 301,
   "metadata": {},
   "outputs": [
    {
     "data": {
      "text/plain": [
       "array([-0.75607336, -0.27539706])"
      ]
     },
     "execution_count": 301,
     "metadata": {},
     "output_type": "execute_result"
    }
   ],
   "source": [
    "p"
   ]
  },
  {
   "cell_type": "code",
   "execution_count": 217,
   "metadata": {},
   "outputs": [
    {
     "data": {
      "text/plain": [
       "[<matplotlib.lines.Line2D at 0x7f3aeba7e5d0>]"
      ]
     },
     "execution_count": 217,
     "metadata": {},
     "output_type": "execute_result"
    },
    {
     "data": {
      "image/png": "[encoded data removed]",
      "text/plain": [
       "<matplotlib.figure.Figure at 0x7f3aeba7eb10>"
      ]
     },
     "metadata": {
      "needs_background": "light"
     },
     "output_type": "display_data"
    }
   ],
   "source": [
    "#plt.plot(Z,nma.min(W_plume[:,:],axis=1)/cal/deltat/2)\n",
    "plt.plot(X,W_bar[i,:]/cal/deltat,'k.')\n",
    "#plt.plot(X,gaussian(X,popt[0],popt[1],popt[2])/cal/deltat)\n",
    "#plt.plot(x, result.init_fit, 'k--')\n",
    "plt.plot(np.linspace(-2,2,300), gaussian(np.linspace(-2,2,300),result.best_values['a'],result.best_values['x0'],result.best_values['sigma']), 'r-')"
   ]
  },
  {
   "cell_type": "code",
   "execution_count": 230,
   "metadata": {},
   "outputs": [],
   "source": [
    "X = np.arange(0,79)*16/cal/D_0-np.mean(np.arange(0,79)*16/cal/D_0)\n",
    "def gaussian(x, a, x0, sigma):\n",
    "    return a*np.exp(-(x-x0)**2/(2*sigma**2))\n",
    "tophat=[]\n",
    "for i in range(1,W_bar.shape[0]-1):\n",
    "    n = np.sum(~W_bar[i,:].mask)\n",
    "    y = W_bar[i,:][~W_bar[i,:].mask].data\n",
    "    x = X[~W_bar[i,:].mask]\n",
    "    mean = nma.sum(x*y)/n                  \n",
    "    sigma = nma.sum(y*(x-mean)**2)/n\n",
    "    #popt,pcov = curve_fit(gaussian,x,y,p0=[nma.min(W_bar[i,:]),mean,sigma])\n",
    "    gmodel = Model(gaussian)\n",
    "    params = gmodel.make_params(a=nma.min(W_bar[i,:])/cal/deltat,x0=nma.sum(x*y)/n,sigma=nma.sum(y*(x-mean)**2)/n)\n",
    "    if i==47:\n",
    "        params['sigma'].min=-1\n",
    "        params['sigma'].max=0\n",
    "        params['x0'].min=-1\n",
    "        params['x0'].max=-.25\n",
    "        params['a'].min=nma.min(y/cal/deltat)*1.25\n",
    "        params['a'].max=nma.min(y/cal/deltat)*.6\n",
    "    else:\n",
    "        params['sigma'].min=-1\n",
    "        params['sigma'].max=1\n",
    "        params['x0'].min=-1\n",
    "        params['x0'].max=-.25\n",
    "        params['a'].min=nma.min(y/cal/deltat)*1.25\n",
    "        params['a'].max=nma.min(y/cal/deltat)*.75\n",
    "    result = gmodel.fit(W_bar[i,:][~W_bar[i,:].mask].data/cal/deltat, params, x=X[~W_bar[i,:].mask])\n",
    "    tophat.append(result.best_values['a']/2)\n",
    "tophat = np.asarray(tophat)"
   ]
  },
  {
   "cell_type": "code",
   "execution_count": 237,
   "metadata": {},
   "outputs": [],
   "source": [
    "from lmfit import Model\n",
    "from lmfit.models import ExponentialGaussianModel as EGM\n",
    "i=47\n",
    "gmodel = Model(gaussian)\n",
    "n = np.sum(~W_bar[i,:].mask)\n",
    "y = W_bar[i,:][~W_bar[i,:].mask].data\n",
    "x = X[~W_bar[i,:].mask]\n",
    "mean = nma.sum(x*y)/n                  \n",
    "sigma = nma.sum(y*(x-mean)**2)/n\n",
    "params = gmodel.make_params(a=nma.min(y)/cal/deltat,x0=nma.sum(x*y)/n,sigma=nma.sum(y*(x-mean)**2)/n)\n",
    "params['sigma'].min=-1\n",
    "params['sigma'].max=0\n",
    "params['x0'].min=-1\n",
    "params['x0'].max=-.25\n",
    "params['a'].min=nma.min(y/cal/deltat)*1.25\n",
    "params['a'].max=nma.min(y/cal/deltat)*.6\n",
    "result = gmodel.fit(y/cal/deltat, params, x=x)\n",
    "#popt,pcov = curve_fit(gaussian,x,y,p0=[nma.min(W_bar[i,:]),mean,sigma])"
   ]
  },
  {
   "cell_type": "code",
   "execution_count": 216,
   "metadata": {},
   "outputs": [
    {
     "data": {
      "text/html": [
       "<h2> Model</h2> Model(gaussian) <h2>Fit Statistics</h2><table><tr><td>fitting method</td><td>leastsq</td><td></td></tr><tr><td># function evals</td><td>51</td><td></td></tr><tr><td># data points</td><td>8</td><td></td></tr><tr><td># variables</td><td>3</td><td></td></tr><tr><td>chi-square</td><td> 0.21773047</td><td></td></tr><tr><td>reduced chi-square</td><td> 0.04354609</td><td></td></tr><tr><td>Akaike info crit.</td><td>-22.8315111</td><td></td></tr><tr><td>Bayesian info crit.</td><td>-22.5931864</td><td></td></tr></table><h2>Variables</h2><table><tr><th> name </th><th> value </th><th> standard error </th><th> relative error </th><th> initial value </th><th> min </th><th> max </th><th> vary </th></tr><tr><td> a </td><td> -1.31478662 </td><td>  0.11426094 </td><td> -8.69% </td><td> -1.3665356636271062 </td><td> -1.70816958 </td><td> -0.81992140 </td><td> True </td></tr><tr><td> x0 </td><td> -0.48939248 </td><td>  0.12094579 </td><td> -24.71% </td><td> -0.25 </td><td> -1.00000000 </td><td> -0.25000000 </td><td> True </td></tr><tr><td> sigma </td><td> -0.67236338 </td><td>  0.16830634 </td><td> -25.03% </td><td> -1 </td><td> -1.00000000 </td><td>  0.00000000 </td><td> True </td></tr></table><h2>Correlations (unreported correlations are < 0.100)</h2><table><tr><td>x0</td><td>sigma</td><td>0.6695</td></tr><tr><td>a</td><td>sigma</td><td>-0.5830</td></tr><tr><td>a</td><td>x0</td><td>-0.2078</td></tr></table>"
      ],
      "text/plain": [
       "<lmfit.model.ModelResult at 0x7f3aeba2d050>"
      ]
     },
     "execution_count": 216,
     "metadata": {},
     "output_type": "execute_result"
    }
   ],
   "source": [
    "result"
   ]
  },
  {
   "cell_type": "markdown",
   "metadata": {},
   "source": [
    "# Calculation of:\n",
    "# $\\overline{wc} = \\bar{w}\\bar{c} + \\overline{w^{\\prime}c^{\\prime}}$"
   ]
  },
  {
   "cell_type": "code",
   "execution_count": null,
   "metadata": {},
   "outputs": [],
   "source": [
    "WC = np.zeros(piv.shape)\n",
    "WpCp = np.zeros(piv.shape)\n",
    "I_max = 0\n",
    "for f in range(1,piv.shape[0]):\n",
    "    C = img.read_frame2d(f)*I_correction\n",
    "    cf = C - mean_c\n",
    "    temp=np.zeros(W_bar.shape)\n",
    "    temp2=np.zeros(W_bar.shape)\n",
    "    temp3=np.zeros(W_bar.shape)\n",
    "    for r in range(8,img.iy-8,16):\n",
    "        for c in range(8,img.ix-8,16):\n",
    "            #print int(r/16),int(c/16)\n",
    "            temp[int(r/16),int(c/16)] = np.mean(C[slice(r,r+16,1),slice(c,c+16,1)])\n",
    "            temp2[int(r/16),int(c/16)] = np.mean(cf[slice(r,r+16,1),slice(c,c+16,1)])\n",
    "            temp3[int(r/16),int(r/16)] = np.mean(C[slice(r,r+16,1),slice(c,c+16,1)])\n",
    "    if np.max(temp)> I_max:\n",
    "        I_max = np.max(temp)\n",
    "    temp = temp/I_max\n",
    "    temp2 = temp2/I_max\n",
    "    WpCp[f,:,:] = temp2*-W_prime[f]/cal/deltat\n",
    "    WC[f,:,:] = temp*(-piv[f]/cal/deltat)\n",
    "#del temp, C    "
   ]
  },
  {
   "cell_type": "code",
   "execution_count": null,
   "metadata": {},
   "outputs": [],
   "source": [
    "temp2.min()"
   ]
  },
  {
   "cell_type": "code",
   "execution_count": null,
   "metadata": {},
   "outputs": [],
   "source": [
    "WC_bar = np.mean(WC,axis=0)\n",
    "f,ax = plt.subplots(figsize=(6,6))\n",
    "ax.plot(np.trapz(WC_bar,dx=1/cal,axis=1),Z,'ko')\n",
    "ax.set_ylim(9,0);\n",
    "ax.set_xlabel(r'$\\int{\\overline{wc}}dx$',labelpad=15,fontsize=18)\n",
    "ax.set_ylabel('$z/D_0$',labelpad=15,fontsize=18);"
   ]
  },
  {
   "cell_type": "code",
   "execution_count": null,
   "metadata": {},
   "outputs": [],
   "source": [
    "\n",
    "f,ax = plt.subplots(figsize=(6,6))\n",
    "ax.plot(np.trapz((c_map/I_max)*-W_bar/cal/deltat,dx=1/cal,axis=1),Z,'ko')\n",
    "ax.set_ylim(9,0);\n",
    "ax.set_xlabel(r'$\\int{\\bar{w} \\bar{c}}dx$',labelpad=15,fontsize=18)\n",
    "ax.set_ylabel('$z/D_0$',labelpad=15,fontsize=18);"
   ]
  },
  {
   "cell_type": "code",
   "execution_count": null,
   "metadata": {},
   "outputs": [],
   "source": [
    "WpCp_bar = np.mean(WpCp,axis=0)\n",
    "f,ax = plt.subplots(figsize=(6,6))\n",
    "ax.plot(np.trapz(WpCp_bar,dx=1/cal,axis=1),Z,'ko')\n",
    "ax.set_ylim(9,0);\n",
    "ax.set_xlabel(r'$\\int{\\overline{w^{\\prime}c^{\\prime}}}dx$',labelpad=15,fontsize=18)\n",
    "ax.set_ylabel('$z/D_0$',labelpad=15,fontsize=18);"
   ]
  },
  {
   "cell_type": "code",
   "execution_count": null,
   "metadata": {},
   "outputs": [],
   "source": [
    "C = img.read_frame2d(0)*I_correction\n",
    "cf = C - mean_c"
   ]
  },
  {
   "cell_type": "code",
   "execution_count": null,
   "metadata": {},
   "outputs": [],
   "source": []
  },
  {
   "cell_type": "markdown",
   "metadata": {},
   "source": [
    "# Plume classification through the Gamma function"
   ]
  },
  {
   "cell_type": "code",
   "execution_count": null,
   "metadata": {},
   "outputs": [],
   "source": [
    "r = np.arange(8,38*16,16).reshape(1,38)\n",
    "r = r.repeat(W_plume.shape[0],axis=0)\n",
    "JQ = abs(2*np.pi*np.sum(W_plume[:,0:38]*r,axis=1))\n",
    "JM = abs(2*np.pi*np.sum(W_plume[:,0:38]**2*r,axis=1))\n",
    "JB = abs(2*np.pi*np.sum(W_plume[:,0:38]*(((1-c_map[:,0:38])*1.225 + c_map[:,0:38]*2500)-1)*r,axis=1))\n",
    "Q = JQ/np.pi\n",
    "M = 2*JM/np.pi\n",
    "F = 2*JB/np.pi\n",
    "alpha = 0.03\n",
    "Gamma = (5*Q**2*F)/(4*alpha*M**(5/2))\n",
    "Gamma[14:30]=Gamma[14:30]-(Gamma[14]-Gamma[13])+np.mean(np.gradient(Gamma[0:13]))\n",
    "Gamma[30]=Gamma[30]-(Gamma[30]-Gamma[29])+np.mean(np.gradient(Gamma[14:29]))\n",
    "Gamma[31:]=Gamma[31:]-(Gamma[31]-Gamma[30])+np.mean(np.gradient(Gamma[14:30]))"
   ]
  },
  {
   "cell_type": "code",
   "execution_count": null,
   "metadata": {},
   "outputs": [],
   "source": []
  },
  {
   "cell_type": "code",
   "execution_count": null,
   "metadata": {},
   "outputs": [],
   "source": [
    "f,ax = plt.subplots(figsize=(7,7))\n",
    "ax.plot(Gamma,Z,'k.')\n",
    "ax.set_ylim(9,0);\n",
    "ax.set_xlabel('$\\Gamma (z)$',labelpad=15,fontsize=18)\n",
    "ax.set_ylabel('$z/D_0$',labelpad=15,fontsize=18);"
   ]
  },
  {
   "cell_type": "markdown",
   "metadata": {},
   "source": [
    "# Liu's Numerical Model for Particle Plumes"
   ]
  },
  {
   "cell_type": "code",
   "execution_count": 647,
   "metadata": {},
   "outputs": [],
   "source": [
    "beta_0 = 1e-3 # volume fraction\n",
    "rho_p = 2500 # kg/m^3\n",
    "rho_a = 1.225 # kg/m^3\n",
    "g = 9.81 # m/s^2\n",
    "w_0 = -nma.min(W_plume[1:-1,:],axis=1)[-1]/cal/deltat # m/s\n",
    "r_0 = .0508/2 # m\n",
    "dp = 52e-6 #m\n",
    "tau_p = 17e-3 # s\n",
    "mu_a = 1.825e-5 # kg m^-1 s^-1\n",
    "\n",
    "\n",
    "steps = 1000000\n",
    "length = 80000\n",
    "s = np.arange(0,length,length/steps)\n",
    "s_size = np.diff(np.arange(1,length,length/steps))[0]\n",
    "w_a0 = w_0-(tau_p*g)\n",
    "r_a0 = r_0\n",
    "alpha = 0.03\n",
    "Q_a0 = np.pi*r_a0**2*w_a0\n",
    "M_a0 = w_a0*Q_a0*rho_a\n",
    "m_dot = 5.8e-3 # kg/s\n",
    "\n",
    "\n",
    "B = (rho_p - rho_a)*np.pi*g*beta_0*w_0*r_0**2\n",
    "K1 = 15/2*np.pi*beta_0*w_0*r_0**2*rho_a**(-1/3)*mu_a**(2/3)*dp**(-5/3)\n"
   ]
  },
  {
   "cell_type": "code",
   "execution_count": 648,
   "metadata": {},
   "outputs": [],
   "source": [
    "wp = np.zeros((steps+1,))\n",
    "wa = np.zeros((steps+1,))\n",
    "Qa = np.zeros((steps+1,))\n",
    "Ma = np.zeros((steps+1,))\n",
    "ra = np.zeros((steps+1,))\n",
    "wp[0] = w_0\n",
    "wa[0] = w_a0\n",
    "Qa[0] = Q_a0\n",
    "ra[0] = r_0\n",
    "Ma[0] = M_a0\n",
    "C = np.zeros((steps+1))\n",
    "#cs=np.linspace(.1,100,100000)\n",
    "#Rep = (rho_a*(w_0-w_a0)*dp)/mu_a\n",
    "#Cd = 24*(1+0.15*Rep**.687)/Rep\n",
    "#Fd = rho_a*(w_0-w_a0)**2/2*Cd/4*np.pi*dp**2*cs*6*beta_0*w_0*r_0**2/dp**3\n",
    "#w = wp[0] + s_size/cal * (B-Fd)/(m_dot*wp[0])\n",
    "#interp_diff = abs(w+np.interp(s[0],(Z[1:-1]),(nma.min(W_plume[1:-1,:],axis=1)/cal/deltat/2)))\n",
    "#C[0] = cs[np.where(interp_diff==np.min(interp_diff))[0]]\n",
    "C=.6\n",
    "for i,ii in enumerate(s):\n",
    "    i=i+1\n",
    "    ii=ii+s_size\n",
    "    Rep = (rho_a*(wp[i-1]-wa[i-1])*dp)/mu_a\n",
    "    Cd = 24*(1+0.15*Rep**.687)/Rep\n",
    "    Fd = rho_a*(wp[i-1]-wa[i-1])**2/2*Cd/4*np.pi*dp**2*C*6*beta_0*w_0*r_0**2/dp**3\n",
    "    wp[i] = wp[i-1] + s_size/cal * (B-Fd)/(m_dot*wp[i-1])\n",
    "    Qa[i] = Qa[i-1] + s_size/cal * (2*np.pi*ra[i-1]*wa[i-1]*alpha)\n",
    "    Ma[i] = Ma[i-1] + s_size/cal * (Fd)/wp[i-1]\n",
    "    wa[i] = Ma[i]/(Qa[i]*rho_a)\n",
    "    ra[i] = np.sqrt(Ma[i]/(np.pi*wa[i]))\n",
    "    #interp_diff = abs(wp[i]+np.interp(s[i],(Z[1:-1]),(nma.min(W_plume[1:-1,:],axis=1)/cal/deltat/2)))\n",
    "    #C[i] = cs[np.where(interp_diff==np.min(interp_diff))[0]]\n",
    "    #print wp[i],Qa[i],Ma[i],wa[i],ra[i],'\\n'cs[np.where(interp_diff==np.min(interp_diff))[0]]"
   ]
  },
  {
   "cell_type": "code",
   "execution_count": 622,
   "metadata": {},
   "outputs": [
    {
     "name": "stdout",
     "output_type": "stream",
     "text": [
      "0.5820958356164383 27.296842101534175 0.018575929500087195 0.03394723761035656 0.6849917209844896 0.015371308110269367\n",
      "0.001047952315808092 0.0006744374246672761 0.5253685255413064 0.020214540271902528\n"
     ]
    }
   ],
   "source": [
    "i=1\n",
    "Rep = (rho_a*(wp[i-1]-wa[i-1])*dp)/mu_a\n",
    "Cd = 24*(1+0.15*Rep**.687)/Rep*C\n",
    "Fd = rho_a*(wp[i-1]-wa[i-1])**2/2*Cd/4*np.pi*dp**2*6*beta_0*w_0*r_0**2/dp**3\n",
    "wp[i] = wp[i-1] + s_size/cal * (B-Fd)/(m_dot*wp[i-1])\n",
    "Qa[i] = Qa[i-1] + s_size/cal * (2*np.pi*ra[i-1]*wa[i-1]*alpha)\n",
    "Ma[i] = Ma[i-1] + s_size/cal * (Fd)/wp[i-1]\n",
    "wa[i] = Ma[i]/(Qa[i]*rho_a)\n",
    "ra[i] = np.sqrt(Ma[i]/(np.pi*wa[i]))\n",
    "print Rep, Cd, Fd,B, wp[i], B-Fd\n",
    "print Qa[i], Ma[i],wa[i],ra[i]"
   ]
  },
  {
   "cell_type": "code",
   "execution_count": 623,
   "metadata": {},
   "outputs": [
    {
     "data": {
      "text/plain": [
       "0.557150550670179"
      ]
     },
     "execution_count": 623,
     "metadata": {},
     "output_type": "execute_result"
    }
   ],
   "source": [
    "i=2\n",
    "(rho_a*(wp[i-1]-wa[i-1])*dp)/mu_a"
   ]
  },
  {
   "cell_type": "code",
   "execution_count": 624,
   "metadata": {},
   "outputs": [
    {
     "data": {
      "text/plain": [
       "0.6832678318135531"
      ]
     },
     "execution_count": 624,
     "metadata": {},
     "output_type": "execute_result"
    }
   ],
   "source": [
    "cs=np.linspace(.1,100,100000)\n",
    "Rep = (rho_a*(w_0-w_a0)*dp)/mu_a\n",
    "Cd = 24*(1+0.15*Rep**.687)/Rep\n",
    "Fd = rho_a*(w_0-w_a0)**2/2*Cd/4*np.pi*dp**2*cs*6*beta_0*w_0*r_0**2/dp**3\n",
    "w = wp[0] + s_size/cal * (B-Fd)/(m_dot*wp[0])\n",
    "interp_diff = abs(w+np.interp(s[0],(Z[1:-1]),(nma.min(W_plume[1:-1,:],axis=1)/cal/deltat/2)))\n",
    "wp[0]"
   ]
  },
  {
   "cell_type": "code",
   "execution_count": 651,
   "metadata": {},
   "outputs": [
    {
     "data": {
      "text/plain": [
       "[<matplotlib.lines.Line2D at 0x7f3b2f3116d0>]"
      ]
     },
     "execution_count": 651,
     "metadata": {},
     "output_type": "execute_result"
    },
    {
     "data": {
      "image/png": "[encoded data removed]",
      "text/plain": [
       "<matplotlib.figure.Figure at 0x7f3b2f38f510>"
      ]
     },
     "metadata": {
      "needs_background": "light"
     },
     "output_type": "display_data"
    }
   ],
   "source": [
    "plt.plot(wp)"
   ]
  },
  {
   "cell_type": "code",
   "execution_count": 450,
   "metadata": {},
   "outputs": [],
   "source": [
    "C = np.zeros((steps+1))\n",
    "cs=np.linspace(.1,100,100000)\n",
    "Rep = (rho_a*(w_0-w_a0)*dp)/mu_a\n",
    "Cd = 24*(1+0.15*Rep**.687)/Rep\n",
    "Fd = rho_a*(w_0-w_a0)**2/2*Cd/4*np.pi*dp**2*cs*6*beta_0*w_0*r_0**2/dp**3\n",
    "w = wp[0] + s_size/cal * (B-Fd)/(m_dot*wp[0])"
   ]
  },
  {
   "cell_type": "code",
   "execution_count": 451,
   "metadata": {},
   "outputs": [
    {
     "data": {
      "text/plain": [
       "array([0.1])"
      ]
     },
     "execution_count": 451,
     "metadata": {},
     "output_type": "execute_result"
    }
   ],
   "source": [
    "interp_diff = abs(w+np.interp(s[0],(Z[1:-1]),(nma.min(W_plume[1:-1,:],axis=1)/cal/deltat/2)))\n",
    "cs[np.where(interp_diff==np.min(interp_diff))[0]]\n"
   ]
  },
  {
   "cell_type": "code",
   "execution_count": 616,
   "metadata": {},
   "outputs": [
    {
     "data": {
      "text/plain": [
       "array([0.00000e+00, 8.00000e-01, 1.60000e+00, ..., 7.99976e+04,\n",
       "       7.99984e+04, 7.99992e+04])"
      ]
     },
     "execution_count": 616,
     "metadata": {},
     "output_type": "execute_result"
    }
   ],
   "source": [
    "s"
   ]
  },
  {
   "cell_type": "code",
   "execution_count": 477,
   "metadata": {},
   "outputs": [
    {
     "data": {
      "text/plain": [
       "-0.6832678318135531"
      ]
     },
     "execution_count": 477,
     "metadata": {},
     "output_type": "execute_result"
    }
   ],
   "source": [
    "np.interp(s[0],(Z[1:-1]),(nma.min(W_plume[1:-1,:],axis=1)/cal/deltat/2))"
   ]
  },
  {
   "cell_type": "code",
   "execution_count": 476,
   "metadata": {},
   "outputs": [
    {
     "data": {
      "text/plain": [
       "31.5"
      ]
     },
     "execution_count": 476,
     "metadata": {},
     "output_type": "execute_result"
    }
   ],
   "source": [
    "s[0]"
   ]
  },
  {
   "cell_type": "code",
   "execution_count": null,
   "metadata": {},
   "outputs": [],
   "source": []
  }
 ],
 "metadata": {
  "kernelspec": {
   "display_name": "Python 2",
   "language": "python",
   "name": "python2"
  },
  "language_info": {
   "codemirror_mode": {
    "name": "ipython",
    "version": 2
   },
   "file_extension": ".py",
   "mimetype": "text/x-python",
   "name": "python",
   "nbconvert_exporter": "python",
   "pygments_lexer": "ipython2",
   "version": "2.7.14"
  }
 },
 "nbformat": 4,
 "nbformat_minor": 2
}
