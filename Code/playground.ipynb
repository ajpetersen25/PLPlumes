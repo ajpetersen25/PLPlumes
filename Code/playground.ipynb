{
 "cells": [
  {
   "cell_type": "code",
   "execution_count": 1,
   "metadata": {},
   "outputs": [],
   "source": [
    "from __future__ import division\n",
    "import numpy as np\n",
    "import numpy.ma as nma\n",
    "from pio import imgio\n",
    "import apply_mask\n",
    "import matplotlib.pyplot as plt\n",
    "from matplotlib import cm\n",
    "from matplotlib import rc\n",
    "rc('text', usetex=True)\n",
    "import scipy.ndimage as ndimage\n",
    "\n",
    "%matplotlib inline"
   ]
  },
  {
   "cell_type": "code",
   "execution_count": 2,
   "metadata": {},
   "outputs": [],
   "source": [
    "# Image, Velocity & Mask File Definitions\n",
    "img_file = '../Analysis/test/cam2_still_50a.bsub.img'\n",
    "W_file = '../Analysis/test/cam2_still_50a.bsub.0032.def.W.npy'\n",
    "msk_file = '../Analysis/test/cam2_still_50a.bsub.0032.def.mask.npy'\n",
    "# other files\n",
    "# time-averaged mask\n",
    "tave_mask = '../Analysis/test/cam2_still_50a.bsub.0032.def.mask.tave_mask.npy'\n",
    "# average vertical velocity\n",
    "avg_W = '../Analysis/test/cam2_still_50a.bsub.0032.def.W.ave.npy'\n",
    "#fluctuating vertical velocity\n",
    "flct_W = '../Analysis/test/cam2_still_50a.bsub.0032.def.W.flct.npy'\n",
    "deltat = 1/300 #s\n",
    "cal = 1.8e3 #pix/m\n",
    "D_0 = 0.0508 #m"
   ]
  },
  {
   "cell_type": "code",
   "execution_count": 100,
   "metadata": {},
   "outputs": [
    {
     "name": "stdout",
     "output_type": "stream",
     "text": [
      "No file found: ../Analysis/test/cam2_still_50a.bsub.img\n",
      "This instance will create new file\n"
     ]
    }
   ],
   "source": [
    "# load in files\n",
    "img = imgio.imgio(img_file)\n",
    "piv = apply_mask.apply_mask(W_file,msk_file)\n",
    "\n",
    "W_bar = apply_mask.apply_mask(avg_W,tave_mask)\n",
    "W_prime = apply_mask.apply_mask(flct_W,msk_file)"
   ]
  },
  {
   "cell_type": "markdown",
   "metadata": {},
   "source": [
    "### Particle Flux"
   ]
  },
  {
   "cell_type": "code",
   "execution_count": 101,
   "metadata": {},
   "outputs": [
    {
     "ename": "IOError",
     "evalue": "../Analysis/test/cam2_ave_lightmap.txt.gz not found.",
     "output_type": "error",
     "traceback": [
      "\u001b[0;31m---------------------------------------------------------------------------\u001b[0m",
      "\u001b[0;31mIOError\u001b[0m                                   Traceback (most recent call last)",
      "\u001b[0;32m<ipython-input-101-337c425b50bc>\u001b[0m in \u001b[0;36m<module>\u001b[0;34m()\u001b[0m\n\u001b[1;32m      1\u001b[0m \u001b[0;31m# Average concentration map (aka average of raw images)\u001b[0m\u001b[0;34m\u001b[0m\u001b[0;34m\u001b[0m\u001b[0;34m\u001b[0m\u001b[0m\n\u001b[0;32m----> 2\u001b[0;31m \u001b[0mlight_map\u001b[0m \u001b[0;34m=\u001b[0m \u001b[0mnp\u001b[0m\u001b[0;34m.\u001b[0m\u001b[0mloadtxt\u001b[0m\u001b[0;34m(\u001b[0m\u001b[0;34m'../Analysis/test/cam2_ave_lightmap.txt.gz'\u001b[0m\u001b[0;34m)\u001b[0m\u001b[0;34m\u001b[0m\u001b[0;34m\u001b[0m\u001b[0m\n\u001b[0m\u001b[1;32m      3\u001b[0m \u001b[0mI_correction\u001b[0m \u001b[0;34m=\u001b[0m \u001b[0mndimage\u001b[0m\u001b[0;34m.\u001b[0m\u001b[0mfilters\u001b[0m\u001b[0;34m.\u001b[0m\u001b[0mgaussian_filter\u001b[0m\u001b[0;34m(\u001b[0m\u001b[0;34m(\u001b[0m\u001b[0mnp\u001b[0m\u001b[0;34m.\u001b[0m\u001b[0mmax\u001b[0m\u001b[0;34m(\u001b[0m\u001b[0mlight_map\u001b[0m\u001b[0;34m)\u001b[0m\u001b[0;34m/\u001b[0m\u001b[0mlight_map\u001b[0m\u001b[0;34m)\u001b[0m\u001b[0;34m,\u001b[0m\u001b[0;36m50\u001b[0m\u001b[0;34m)\u001b[0m\u001b[0;34m\u001b[0m\u001b[0;34m\u001b[0m\u001b[0m\n\u001b[1;32m      4\u001b[0m \u001b[0mmean_c\u001b[0m \u001b[0;34m=\u001b[0m \u001b[0mimg\u001b[0m\u001b[0;34m.\u001b[0m\u001b[0mread_frame2d\u001b[0m\u001b[0;34m(\u001b[0m\u001b[0;36m0\u001b[0m\u001b[0;34m)\u001b[0m\u001b[0;34m.\u001b[0m\u001b[0mastype\u001b[0m\u001b[0;34m(\u001b[0m\u001b[0mint\u001b[0m\u001b[0;34m)\u001b[0m\u001b[0;34m\u001b[0m\u001b[0;34m\u001b[0m\u001b[0m\n\u001b[1;32m      5\u001b[0m \u001b[0;32mfor\u001b[0m \u001b[0mf\u001b[0m \u001b[0;32min\u001b[0m \u001b[0mrange\u001b[0m\u001b[0;34m(\u001b[0m\u001b[0;36m1\u001b[0m\u001b[0;34m,\u001b[0m\u001b[0mimg\u001b[0m\u001b[0;34m.\u001b[0m\u001b[0mit\u001b[0m\u001b[0;34m)\u001b[0m\u001b[0;34m:\u001b[0m\u001b[0;34m\u001b[0m\u001b[0;34m\u001b[0m\u001b[0m\n",
      "\u001b[0;32m/home/alec/environments/safl/local/lib/python2.7/site-packages/numpy/lib/npyio.pyc\u001b[0m in \u001b[0;36mloadtxt\u001b[0;34m(fname, dtype, comments, delimiter, converters, skiprows, usecols, unpack, ndmin, encoding)\u001b[0m\n\u001b[1;32m    924\u001b[0m             \u001b[0mfname\u001b[0m \u001b[0;34m=\u001b[0m \u001b[0mstr\u001b[0m\u001b[0;34m(\u001b[0m\u001b[0mfname\u001b[0m\u001b[0;34m)\u001b[0m\u001b[0;34m\u001b[0m\u001b[0;34m\u001b[0m\u001b[0m\n\u001b[1;32m    925\u001b[0m         \u001b[0;32mif\u001b[0m \u001b[0m_is_string_like\u001b[0m\u001b[0;34m(\u001b[0m\u001b[0mfname\u001b[0m\u001b[0;34m)\u001b[0m\u001b[0;34m:\u001b[0m\u001b[0;34m\u001b[0m\u001b[0;34m\u001b[0m\u001b[0m\n\u001b[0;32m--> 926\u001b[0;31m             \u001b[0mfh\u001b[0m \u001b[0;34m=\u001b[0m \u001b[0mnp\u001b[0m\u001b[0;34m.\u001b[0m\u001b[0mlib\u001b[0m\u001b[0;34m.\u001b[0m\u001b[0m_datasource\u001b[0m\u001b[0;34m.\u001b[0m\u001b[0mopen\u001b[0m\u001b[0;34m(\u001b[0m\u001b[0mfname\u001b[0m\u001b[0;34m,\u001b[0m \u001b[0;34m'rt'\u001b[0m\u001b[0;34m,\u001b[0m \u001b[0mencoding\u001b[0m\u001b[0;34m=\u001b[0m\u001b[0mencoding\u001b[0m\u001b[0;34m)\u001b[0m\u001b[0;34m\u001b[0m\u001b[0;34m\u001b[0m\u001b[0m\n\u001b[0m\u001b[1;32m    927\u001b[0m             \u001b[0mfencoding\u001b[0m \u001b[0;34m=\u001b[0m \u001b[0mgetattr\u001b[0m\u001b[0;34m(\u001b[0m\u001b[0mfh\u001b[0m\u001b[0;34m,\u001b[0m \u001b[0;34m'encoding'\u001b[0m\u001b[0;34m,\u001b[0m \u001b[0;34m'latin1'\u001b[0m\u001b[0;34m)\u001b[0m\u001b[0;34m\u001b[0m\u001b[0;34m\u001b[0m\u001b[0m\n\u001b[1;32m    928\u001b[0m             \u001b[0mfh\u001b[0m \u001b[0;34m=\u001b[0m \u001b[0miter\u001b[0m\u001b[0;34m(\u001b[0m\u001b[0mfh\u001b[0m\u001b[0;34m)\u001b[0m\u001b[0;34m\u001b[0m\u001b[0;34m\u001b[0m\u001b[0m\n",
      "\u001b[0;32m/home/alec/environments/safl/local/lib/python2.7/site-packages/numpy/lib/_datasource.pyc\u001b[0m in \u001b[0;36mopen\u001b[0;34m(path, mode, destpath, encoding, newline)\u001b[0m\n\u001b[1;32m    260\u001b[0m \u001b[0;34m\u001b[0m\u001b[0m\n\u001b[1;32m    261\u001b[0m     \u001b[0mds\u001b[0m \u001b[0;34m=\u001b[0m \u001b[0mDataSource\u001b[0m\u001b[0;34m(\u001b[0m\u001b[0mdestpath\u001b[0m\u001b[0;34m)\u001b[0m\u001b[0;34m\u001b[0m\u001b[0;34m\u001b[0m\u001b[0m\n\u001b[0;32m--> 262\u001b[0;31m     \u001b[0;32mreturn\u001b[0m \u001b[0mds\u001b[0m\u001b[0;34m.\u001b[0m\u001b[0mopen\u001b[0m\u001b[0;34m(\u001b[0m\u001b[0mpath\u001b[0m\u001b[0;34m,\u001b[0m \u001b[0mmode\u001b[0m\u001b[0;34m,\u001b[0m \u001b[0mencoding\u001b[0m\u001b[0;34m=\u001b[0m\u001b[0mencoding\u001b[0m\u001b[0;34m,\u001b[0m \u001b[0mnewline\u001b[0m\u001b[0;34m=\u001b[0m\u001b[0mnewline\u001b[0m\u001b[0;34m)\u001b[0m\u001b[0;34m\u001b[0m\u001b[0;34m\u001b[0m\u001b[0m\n\u001b[0m\u001b[1;32m    263\u001b[0m \u001b[0;34m\u001b[0m\u001b[0m\n\u001b[1;32m    264\u001b[0m \u001b[0;34m\u001b[0m\u001b[0m\n",
      "\u001b[0;32m/home/alec/environments/safl/local/lib/python2.7/site-packages/numpy/lib/_datasource.pyc\u001b[0m in \u001b[0;36mopen\u001b[0;34m(self, path, mode, encoding, newline)\u001b[0m\n\u001b[1;32m    616\u001b[0m                                       encoding=encoding, newline=newline)\n\u001b[1;32m    617\u001b[0m         \u001b[0;32melse\u001b[0m\u001b[0;34m:\u001b[0m\u001b[0;34m\u001b[0m\u001b[0;34m\u001b[0m\u001b[0m\n\u001b[0;32m--> 618\u001b[0;31m             \u001b[0;32mraise\u001b[0m \u001b[0mIOError\u001b[0m\u001b[0;34m(\u001b[0m\u001b[0;34m\"%s not found.\"\u001b[0m \u001b[0;34m%\u001b[0m \u001b[0mpath\u001b[0m\u001b[0;34m)\u001b[0m\u001b[0;34m\u001b[0m\u001b[0;34m\u001b[0m\u001b[0m\n\u001b[0m\u001b[1;32m    619\u001b[0m \u001b[0;34m\u001b[0m\u001b[0m\n\u001b[1;32m    620\u001b[0m \u001b[0;34m\u001b[0m\u001b[0m\n",
      "\u001b[0;31mIOError\u001b[0m: ../Analysis/test/cam2_ave_lightmap.txt.gz not found."
     ]
    }
   ],
   "source": [
    "# Average concentration map (aka average of raw images)\n",
    "light_map = np.loadtxt('../Analysis/test/cam2_ave_lightmap.txt.gz')\n",
    "I_correction = ndimage.filters.gaussian_filter((np.max(light_map)/light_map),50)\n",
    "mean_c = img.read_frame2d(0).astype(int)\n",
    "for f in range(1,img.it):\n",
    "    t = img.read_frame2d(f)\n",
    "    t[t<150]=0\n",
    "    mean_c += t\n",
    "mean_c = (mean_c / img.it)*I_correction"
   ]
  },
  {
   "cell_type": "code",
   "execution_count": 474,
   "metadata": {},
   "outputs": [
    {
     "data": {
      "text/plain": [
       "<matplotlib.collections.QuadMesh at 0x7f3e32148410>"
      ]
     },
     "execution_count": 474,
     "metadata": {},
     "output_type": "execute_result"
    },
    {
     "data": {
      "image/png": "[encoded data removed]",
      "text/plain": [
       "<matplotlib.figure.Figure at 0x7f3e3241d210>"
      ]
     },
     "metadata": {},
     "output_type": "display_data"
    }
   ],
   "source": []
  },
  {
   "cell_type": "code",
   "execution_count": 105,
   "metadata": {},
   "outputs": [
    {
     "ename": "AttributeError",
     "evalue": "imgio instance has no attribute 'ix'",
     "output_type": "error",
     "traceback": [
      "\u001b[0;31m---------------------------------------------------------------------------\u001b[0m",
      "\u001b[0;31mAttributeError\u001b[0m                            Traceback (most recent call last)",
      "\u001b[0;32m<ipython-input-105-2c12dff0769a>\u001b[0m in \u001b[0;36m<module>\u001b[0;34m()\u001b[0m\n\u001b[1;32m      1\u001b[0m \u001b[0mf\u001b[0m\u001b[0;34m,\u001b[0m\u001b[0max\u001b[0m \u001b[0;34m=\u001b[0m \u001b[0mplt\u001b[0m\u001b[0;34m.\u001b[0m\u001b[0msubplots\u001b[0m\u001b[0;34m(\u001b[0m\u001b[0;36m1\u001b[0m\u001b[0;34m,\u001b[0m\u001b[0;36m2\u001b[0m\u001b[0;34m,\u001b[0m\u001b[0mfigsize\u001b[0m\u001b[0;34m=\u001b[0m\u001b[0;34m(\u001b[0m\u001b[0;36m10\u001b[0m\u001b[0;34m,\u001b[0m\u001b[0;36m6\u001b[0m\u001b[0;34m)\u001b[0m\u001b[0;34m,\u001b[0m\u001b[0msharey\u001b[0m\u001b[0;34m=\u001b[0m\u001b[0mTrue\u001b[0m\u001b[0;34m)\u001b[0m\u001b[0;34m\u001b[0m\u001b[0;34m\u001b[0m\u001b[0m\n\u001b[0;32m----> 2\u001b[0;31m \u001b[0mX\u001b[0m\u001b[0;34m,\u001b[0m\u001b[0mZ\u001b[0m \u001b[0;34m=\u001b[0m \u001b[0mnp\u001b[0m\u001b[0;34m.\u001b[0m\u001b[0mmeshgrid\u001b[0m\u001b[0;34m(\u001b[0m\u001b[0mnp\u001b[0m\u001b[0;34m.\u001b[0m\u001b[0mlinspace\u001b[0m\u001b[0;34m(\u001b[0m\u001b[0;36m0\u001b[0m\u001b[0;34m,\u001b[0m\u001b[0mimg\u001b[0m\u001b[0;34m.\u001b[0m\u001b[0mix\u001b[0m\u001b[0;34m-\u001b[0m\u001b[0;36m1\u001b[0m\u001b[0;34m,\u001b[0m\u001b[0mimg\u001b[0m\u001b[0;34m.\u001b[0m\u001b[0mix\u001b[0m\u001b[0;34m)\u001b[0m\u001b[0;34m/\u001b[0m\u001b[0mcal\u001b[0m\u001b[0;34m,\u001b[0m \u001b[0mnp\u001b[0m\u001b[0;34m.\u001b[0m\u001b[0mlinspace\u001b[0m\u001b[0;34m(\u001b[0m\u001b[0;36m0\u001b[0m\u001b[0;34m,\u001b[0m\u001b[0mimg\u001b[0m\u001b[0;34m.\u001b[0m\u001b[0miy\u001b[0m\u001b[0;34m-\u001b[0m\u001b[0;36m1\u001b[0m\u001b[0;34m,\u001b[0m\u001b[0mimg\u001b[0m\u001b[0;34m.\u001b[0m\u001b[0miy\u001b[0m\u001b[0;34m)\u001b[0m\u001b[0;34m/\u001b[0m\u001b[0mcal\u001b[0m\u001b[0;34m)\u001b[0m\u001b[0;34m\u001b[0m\u001b[0;34m\u001b[0m\u001b[0m\n\u001b[0m\u001b[1;32m      3\u001b[0m \u001b[0max\u001b[0m\u001b[0;34m[\u001b[0m\u001b[0;36m0\u001b[0m\u001b[0;34m]\u001b[0m\u001b[0;34m.\u001b[0m\u001b[0mpcolormesh\u001b[0m\u001b[0;34m(\u001b[0m\u001b[0mX\u001b[0m\u001b[0;34m,\u001b[0m\u001b[0mZ\u001b[0m\u001b[0;34m,\u001b[0m\u001b[0mmean_c\u001b[0m\u001b[0;34m,\u001b[0m\u001b[0mcmap\u001b[0m\u001b[0;34m=\u001b[0m\u001b[0mcm\u001b[0m\u001b[0;34m.\u001b[0m\u001b[0mgray\u001b[0m\u001b[0;34m,\u001b[0m\u001b[0mvmin\u001b[0m\u001b[0;34m=\u001b[0m\u001b[0;36m1000\u001b[0m\u001b[0;34m,\u001b[0m\u001b[0mvmax\u001b[0m\u001b[0;34m=\u001b[0m\u001b[0;36m10000\u001b[0m\u001b[0;34m)\u001b[0m\u001b[0;34m;\u001b[0m\u001b[0;34m\u001b[0m\u001b[0;34m\u001b[0m\u001b[0m\n\u001b[1;32m      4\u001b[0m \u001b[0max\u001b[0m\u001b[0;34m[\u001b[0m\u001b[0;36m0\u001b[0m\u001b[0;34m]\u001b[0m\u001b[0;34m.\u001b[0m\u001b[0mset_title\u001b[0m\u001b[0;34m(\u001b[0m\u001b[0;34mr'$\\bar{c}$'\u001b[0m\u001b[0;34m,\u001b[0m\u001b[0my\u001b[0m\u001b[0;34m=\u001b[0m\u001b[0;36m1.05\u001b[0m\u001b[0;34m,\u001b[0m\u001b[0mfontsize\u001b[0m\u001b[0;34m=\u001b[0m\u001b[0;36m18\u001b[0m\u001b[0;34m)\u001b[0m\u001b[0;34m;\u001b[0m\u001b[0;34m\u001b[0m\u001b[0;34m\u001b[0m\u001b[0m\n\u001b[1;32m      5\u001b[0m \u001b[0mXv\u001b[0m\u001b[0;34m,\u001b[0m\u001b[0mZv\u001b[0m \u001b[0;34m=\u001b[0m \u001b[0mnp\u001b[0m\u001b[0;34m.\u001b[0m\u001b[0mmeshgrid\u001b[0m\u001b[0;34m(\u001b[0m\u001b[0mnp\u001b[0m\u001b[0;34m.\u001b[0m\u001b[0mlinspace\u001b[0m\u001b[0;34m(\u001b[0m\u001b[0;36m0\u001b[0m\u001b[0;34m,\u001b[0m\u001b[0mW_bar\u001b[0m\u001b[0;34m.\u001b[0m\u001b[0mshape\u001b[0m\u001b[0;34m[\u001b[0m\u001b[0;36m1\u001b[0m\u001b[0;34m]\u001b[0m\u001b[0;34m-\u001b[0m\u001b[0;36m1\u001b[0m\u001b[0;34m,\u001b[0m\u001b[0mW_bar\u001b[0m\u001b[0;34m.\u001b[0m\u001b[0mshape\u001b[0m\u001b[0;34m[\u001b[0m\u001b[0;36m1\u001b[0m\u001b[0;34m]\u001b[0m\u001b[0;34m)\u001b[0m\u001b[0;34m*\u001b[0m\u001b[0;36m16\u001b[0m\u001b[0;34m/\u001b[0m\u001b[0mcal\u001b[0m\u001b[0;34m,\u001b[0m \u001b[0mnp\u001b[0m\u001b[0;34m.\u001b[0m\u001b[0mlinspace\u001b[0m\u001b[0;34m(\u001b[0m\u001b[0;36m0\u001b[0m\u001b[0;34m,\u001b[0m\u001b[0mW_bar\u001b[0m\u001b[0;34m.\u001b[0m\u001b[0mshape\u001b[0m\u001b[0;34m[\u001b[0m\u001b[0;36m0\u001b[0m\u001b[0;34m]\u001b[0m\u001b[0;34m-\u001b[0m\u001b[0;36m1\u001b[0m\u001b[0;34m,\u001b[0m\u001b[0mW_bar\u001b[0m\u001b[0;34m.\u001b[0m\u001b[0mshape\u001b[0m\u001b[0;34m[\u001b[0m\u001b[0;36m0\u001b[0m\u001b[0;34m]\u001b[0m\u001b[0;34m)\u001b[0m\u001b[0;34m*\u001b[0m\u001b[0;36m16\u001b[0m\u001b[0;34m/\u001b[0m\u001b[0mcal\u001b[0m\u001b[0;34m)\u001b[0m\u001b[0;34m\u001b[0m\u001b[0;34m\u001b[0m\u001b[0m\n",
      "\u001b[0;31mAttributeError\u001b[0m: imgio instance has no attribute 'ix'"
     ]
    },
    {
     "data": {
      "image/png": "[encoded data removed]",
      "text/plain": [
       "<matplotlib.figure.Figure at 0x7f5d76272d10>"
      ]
     },
     "metadata": {
      "needs_background": "light"
     },
     "output_type": "display_data"
    }
   ],
   "source": [
    "f,ax = plt.subplots(1,2,figsize=(10,6),sharey=True)\n",
    "X,Z = np.meshgrid(np.linspace(0,img.ix-1,img.ix)/cal, np.linspace(0,img.iy-1,img.iy)/cal)\n",
    "ax[0].pcolormesh(X,Z,mean_c,cmap=cm.gray,vmin=1000,vmax=10000);\n",
    "ax[0].set_title(r'$\\bar{c}$',y=1.05,fontsize=18);\n",
    "Xv,Zv = np.meshgrid(np.linspace(0,W_bar.shape[1]-1,W_bar.shape[1])*16/cal, np.linspace(0,W_bar.shape[0]-1,W_bar.shape[0])*16/cal)\n",
    "ax[1].pcolormesh(Xv,Zv,W_bar,cmap=cm.magma);\n",
    "ax[1].plot()\n",
    "ax[1].set_title(r'$\\bar{W}$',y=1.05,fontsize=18);\n",
    "ax[1].set_xlabel('[m]',labelpad=15,fontsize=18)\n",
    "ax[0].set_xlabel('[m]',labelpad=15,fontsize=18)\n",
    "ax[0].set_ylabel('[m]',labelpad=15,fontsize=18)\n",
    "ax[0].set_ylim(0,np.max(Z))\n",
    "plt.tight_layout()\n",
    "centerline = np.zeros((2,W_bar.shape[0]))\n",
    "for r in range(0,W_bar.shape[0]):\n",
    "    centerline[0,r] = r\n",
    "    try:\n",
    "        centerline[1,r] = (np.where(W_bar[r,:] == nma.min(W_bar[:,:],axis=1)[r])[0])\n",
    "    except:\n",
    "        centerline[1,r] = np.nan\n",
    "centerline_pix = (centerline*16+16.5)\n",
    "Z = (800-centerline_pix[0])/cal/D_0\n",
    "#R = \n",
    "ax[1].plot(centerline_pix[1]/cal,centerline_pix[0]/cal,'wx');\n",
    "ax[0].plot(np.where(mean_c==np.max(mean_c))[1]/cal,np.where(mean_c==np.max(mean_c))[0]/cal,'ro')\n",
    "ax[0].legend(['Maximum corrected brightness'],loc=4);"
   ]
  },
  {
   "cell_type": "code",
   "execution_count": 102,
   "metadata": {},
   "outputs": [
    {
     "ename": "NameError",
     "evalue": "name 'mean_c' is not defined",
     "output_type": "error",
     "traceback": [
      "\u001b[0;31m---------------------------------------------------------------------------\u001b[0m",
      "\u001b[0;31mNameError\u001b[0m                                 Traceback (most recent call last)",
      "\u001b[0;32m<ipython-input-102-98fd5fcfeab2>\u001b[0m in \u001b[0;36m<module>\u001b[0;34m()\u001b[0m\n\u001b[1;32m      2\u001b[0m \u001b[0mc_map\u001b[0m \u001b[0;34m=\u001b[0m \u001b[0mnp\u001b[0m\u001b[0;34m.\u001b[0m\u001b[0mzeros\u001b[0m\u001b[0;34m(\u001b[0m\u001b[0mW_bar\u001b[0m\u001b[0;34m.\u001b[0m\u001b[0mshape\u001b[0m\u001b[0;34m)\u001b[0m\u001b[0;34m\u001b[0m\u001b[0;34m\u001b[0m\u001b[0m\n\u001b[1;32m      3\u001b[0m \u001b[0mc_map2\u001b[0m \u001b[0;34m=\u001b[0m \u001b[0mnp\u001b[0m\u001b[0;34m.\u001b[0m\u001b[0mzeros\u001b[0m\u001b[0;34m(\u001b[0m\u001b[0mW_bar\u001b[0m\u001b[0;34m.\u001b[0m\u001b[0mshape\u001b[0m\u001b[0;34m)\u001b[0m\u001b[0;34m\u001b[0m\u001b[0;34m\u001b[0m\u001b[0m\n\u001b[0;32m----> 4\u001b[0;31m \u001b[0mmean_c2\u001b[0m \u001b[0;34m=\u001b[0m \u001b[0mmean_c\u001b[0m\u001b[0;34m/\u001b[0m\u001b[0mI_correction\u001b[0m\u001b[0;34m\u001b[0m\u001b[0;34m\u001b[0m\u001b[0m\n\u001b[0m\u001b[1;32m      5\u001b[0m \u001b[0;32mfor\u001b[0m \u001b[0mr\u001b[0m \u001b[0;32min\u001b[0m \u001b[0mrange\u001b[0m\u001b[0;34m(\u001b[0m\u001b[0;36m8\u001b[0m\u001b[0;34m,\u001b[0m\u001b[0mimg\u001b[0m\u001b[0;34m.\u001b[0m\u001b[0miy\u001b[0m\u001b[0;34m-\u001b[0m\u001b[0;36m8\u001b[0m\u001b[0;34m,\u001b[0m\u001b[0;36m16\u001b[0m\u001b[0;34m)\u001b[0m\u001b[0;34m:\u001b[0m\u001b[0;34m\u001b[0m\u001b[0;34m\u001b[0m\u001b[0m\n\u001b[1;32m      6\u001b[0m     \u001b[0;32mfor\u001b[0m \u001b[0mc\u001b[0m \u001b[0;32min\u001b[0m \u001b[0mrange\u001b[0m\u001b[0;34m(\u001b[0m\u001b[0;36m8\u001b[0m\u001b[0;34m,\u001b[0m\u001b[0mimg\u001b[0m\u001b[0;34m.\u001b[0m\u001b[0mix\u001b[0m\u001b[0;34m-\u001b[0m\u001b[0;36m8\u001b[0m\u001b[0;34m,\u001b[0m\u001b[0;36m16\u001b[0m\u001b[0;34m)\u001b[0m\u001b[0;34m:\u001b[0m\u001b[0;34m\u001b[0m\u001b[0;34m\u001b[0m\u001b[0m\n",
      "\u001b[0;31mNameError\u001b[0m: name 'mean_c' is not defined"
     ]
    }
   ],
   "source": [
    "# calculate mean concentration on PIV grid\n",
    "c_map = np.zeros(W_bar.shape)\n",
    "c_map2 = np.zeros(W_bar.shape)\n",
    "mean_c2 = mean_c/I_correction\n",
    "for r in range(8,img.iy-8,16):\n",
    "    for c in range(8,img.ix-8,16):\n",
    "        #print int(r/16),int(c/16) \n",
    "        c_map[int(r/16),int(c/16)] = np.mean(mean_c[slice(r,r+16,1),slice(c,c+16,1)])\n",
    "        c_map2[int(r/16),int(c/16)] = np.mean(mean_c2[slice(r,r+16,1),slice(c,c+16,1)])"
   ]
  },
  {
   "cell_type": "code",
   "execution_count": 146,
   "metadata": {},
   "outputs": [
    {
     "data": {
      "image/png": "[encoded data removed]",
      "text/plain": [
       "<matplotlib.figure.Figure at 0x7f5d762b59d0>"
      ]
     },
     "metadata": {
      "needs_background": "light"
     },
     "output_type": "display_data"
    }
   ],
   "source": [
    "centerline = np.zeros((2,W_bar.shape[0]))\n",
    "for r in range(0,W_bar.shape[0]):\n",
    "    centerline[0,r] = r\n",
    "    try:\n",
    "        centerline[1,r] = (np.where(W_bar[r,:] == nma.min(W_bar[:,:],axis=1)[r])[0])\n",
    "    except:\n",
    "        centerline[1,r] = np.nan\n",
    "centerline_pix = (centerline*16+16.5)\n",
    "Z = (800-centerline_pix[0])/cal/D_0\n",
    "#centerline concentration and velocity\n",
    "f,ax = plt.subplots(1,2,figsize=(10,6),sharey=True)\n",
    "#ax[0].plot(c_map[centerline[0][1:-1].astype('int'),\n",
    "#                 centerline[1][1:-1].astype('int')]/np.max(c_map),Z[1:-1],'rs',\n",
    "#          c_map2[centerline[0][1:-1].astype('int'),\n",
    "#                 centerline[1][1:-1].astype('int')]/np.max(c_map2),Z[1:-1],'b^')\n",
    "#ax[0].plot(np.mean(c_map,axis=1)[1:-1]/np.max(c_map),Z[1:-1],'rs',\n",
    "#          np.mean(c_map2,axis=1)[1:-1]/np.max(c_map2),Z[1:-1],'b^')\n",
    "ax[0].legend(['Corrected','Uncorrected'])\n",
    "ax[0].set_xlabel('$C/C_{max}$',labelpad=15,fontsize=18)\n",
    "ax[0].set_ylabel('$z/D_0$',labelpad=15,fontsize=18)\n",
    "ax[0].set_ylim(9,0);\n",
    "ax[1].plot(nma.mean(W_bar[:,:],axis=1)/cal/deltat,Z,'ko')\n",
    "#ax[1].plot(np.polyval(np.polyfit(Z[35:-1],nma.min(W_bar[:,:],axis=1)[35:-1].data,1)/cal/deltat,Z[35:-1]),Z[35:-1],'g-',linewidth=4)\n",
    "#ax[1].text(-1.9,1.5,r'$\\frac{dw_z}{dz}=-7.8$ [1/s]',fontsize=15,color='darkgreen')\n",
    "#ax[1].set_xlabel('$W_c$ [m/s]',labelpad=15,fontsize=18);\n",
    "ax[1].plot(-wp[0:-1],np.linspace(0,799,800)/cal/D_0,'r--');"
   ]
  },
  {
   "cell_type": "markdown",
   "metadata": {},
   "source": [
    "# Calculation of:\n",
    "# $\\overline{wc} = \\bar{w}\\bar{c} + \\overline{w^{\\prime}c^{\\prime}}$"
   ]
  },
  {
   "cell_type": "code",
   "execution_count": 29,
   "metadata": {},
   "outputs": [],
   "source": [
    "WC = np.zeros(piv.shape)\n",
    "WpCp = np.zeros(piv.shape)\n",
    "I_max = 0\n",
    "for f in range(1,piv.shape[0]):\n",
    "    C = img.read_frame2d(f)*I_correction\n",
    "    cf = C - mean_c\n",
    "    temp=np.zeros(W_bar.shape)\n",
    "    temp2=np.zeros(W_bar.shape)\n",
    "    temp3=np.zeros(W_bar.shape)\n",
    "    for r in range(8,img.iy-8,16):\n",
    "        for c in range(8,img.ix-8,16):\n",
    "            #print int(r/16),int(c/16)\n",
    "            temp[int(r/16),int(c/16)] = np.mean(C[slice(r,r+16,1),slice(c,c+16,1)])\n",
    "            temp2[int(r/16),int(c/16)] = np.mean(cf[slice(r,r+16,1),slice(c,c+16,1)])\n",
    "            temp3[int(r/16),int(r/16)] = np.mean(C[slice(r,r+16,1),slice(c,c+16,1)])\n",
    "    if np.max(temp)> I_max:\n",
    "        I_max = np.max(temp)\n",
    "    temp = temp/I_max\n",
    "    temp2 = temp2/I_max\n",
    "    WpCp[f,:,:] = temp2*-W_prime[f]/cal/deltat\n",
    "    WC[f,:,:] = temp*(-piv[f]/cal/deltat)\n",
    "#del temp, C    "
   ]
  },
  {
   "cell_type": "code",
   "execution_count": 30,
   "metadata": {},
   "outputs": [
    {
     "data": {
      "text/plain": [
       "-0.38088386800791385"
      ]
     },
     "execution_count": 30,
     "metadata": {},
     "output_type": "execute_result"
    }
   ],
   "source": [
    "temp2.min()"
   ]
  },
  {
   "cell_type": "code",
   "execution_count": 31,
   "metadata": {},
   "outputs": [
    {
     "data": {
      "image/png": "[encoded data removed]",
      "text/plain": [
       "<Figure size 432x432 with 1 Axes>"
      ]
     },
     "metadata": {},
     "output_type": "display_data"
    }
   ],
   "source": [
    "WC_bar = np.mean(WC,axis=0)\n",
    "f,ax = plt.subplots(figsize=(6,6))\n",
    "ax.plot(np.trapz(WC_bar,dx=1/cal,axis=1),Z,'ko')\n",
    "ax.set_ylim(9,0);\n",
    "ax.set_xlabel(r'$\\int{\\overline{wc}}dx$',labelpad=15,fontsize=18)\n",
    "ax.set_ylabel('$z/D_0$',labelpad=15,fontsize=18);"
   ]
  },
  {
   "cell_type": "code",
   "execution_count": 40,
   "metadata": {},
   "outputs": [
    {
     "data": {
      "image/png": "[encoded data removed]",
      "text/plain": [
       "<Figure size 432x432 with 1 Axes>"
      ]
     },
     "metadata": {},
     "output_type": "display_data"
    }
   ],
   "source": [
    "\n",
    "f,ax = plt.subplots(figsize=(6,6))\n",
    "ax.plot(np.trapz((c_map/I_max)*-W_bar/cal/deltat,dx=1/cal,axis=1),Z,'ko')\n",
    "ax.set_ylim(9,0);\n",
    "ax.set_xlabel(r'$\\int{\\bar{w} \\bar{c}}dx$',labelpad=15,fontsize=18)\n",
    "ax.set_ylabel('$z/D_0$',labelpad=15,fontsize=18);"
   ]
  },
  {
   "cell_type": "code",
   "execution_count": 36,
   "metadata": {},
   "outputs": [
    {
     "data": {
      "image/png": "[encoded data removed]",
      "text/plain": [
       "<Figure size 432x432 with 1 Axes>"
      ]
     },
     "metadata": {},
     "output_type": "display_data"
    }
   ],
   "source": [
    "WpCp_bar = np.mean(WpCp,axis=0)\n",
    "f,ax = plt.subplots(figsize=(6,6))\n",
    "ax.plot(np.trapz(WpCp_bar,dx=1/cal,axis=1),Z,'ko')\n",
    "ax.set_ylim(9,0);\n",
    "ax.set_xlabel(r'$\\int{\\overline{w^{\\prime}c^{\\prime}}}dx$',labelpad=15,fontsize=18)\n",
    "ax.set_ylabel('$z/D_0$',labelpad=15,fontsize=18);"
   ]
  },
  {
   "cell_type": "code",
   "execution_count": 23,
   "metadata": {},
   "outputs": [],
   "source": [
    "C = img.read_frame2d(0)*I_correction\n",
    "cf = C - mean_c"
   ]
  },
  {
   "cell_type": "code",
   "execution_count": 27,
   "metadata": {},
   "outputs": [
    {
     "data": {
      "text/plain": [
       "(26795.030876687437, 15321.226453638259)"
      ]
     },
     "execution_count": 27,
     "metadata": {},
     "output_type": "execute_result"
    }
   ],
   "source": [
    "I_max, c_map.max()"
   ]
  },
  {
   "cell_type": "markdown",
   "metadata": {},
   "source": [
    "# Liu's Numerical Model for Particle Plumes"
   ]
  },
  {
   "cell_type": "code",
   "execution_count": 64,
   "metadata": {},
   "outputs": [],
   "source": [
    "beta_0 = 1e-3 # volume fraction\n",
    "rho_p = 2500 # kg/m^3\n",
    "rho_a = 1.225 # kg/m^3\n",
    "g = 9.81 # m/s^2\n",
    "w_0 = 1.25 # m/s\n",
    "r_0 = .0508/2 # m\n",
    "dp = 52e-6 #m\n",
    "tau_p = 17e-3 # s\n",
    "mu_a = 1.825e-5 # kg m^-1 s^-1\n",
    "\n",
    "\n",
    "steps = 10000\n",
    "\n",
    "s_size = np.diff(np.arange(1,800,800/steps))[0]\n",
    "w_a0 = w_0-(tau_p*g)\n",
    "r_a0 = r_0\n",
    "alpha = 0.03\n",
    "Q_a0 = np.pi*r_a0**2*w_a0\n",
    "M_a0 = w_a0*Q_a0*rho_a\n",
    "m_dot = 5.8e-3 # kg/s\n",
    "\n",
    "\n",
    "B = (rho_p - rho_a)*np.pi*g*beta_0*w_0*r_0**2\n",
    "K1 = 15/2*np.pi*beta_0*w_0*r_0**2*rho_a**(-1/3)*mu_a**(2/3)*dp**(-5/3)\n"
   ]
  },
  {
   "cell_type": "code",
   "execution_count": 65,
   "metadata": {},
   "outputs": [
    {
     "name": "stdout",
     "output_type": "stream",
     "text": [
      "0.08000000000000007\n"
     ]
    }
   ],
   "source": [
    "print s_size"
   ]
  },
  {
   "cell_type": "code",
   "execution_count": 143,
   "metadata": {},
   "outputs": [],
   "source": [
    "wp = np.zeros((steps+1,))\n",
    "wa = np.zeros((steps+1,))\n",
    "Qa = np.zeros((steps+1,))\n",
    "Ma = np.zeros((steps+1,))\n",
    "ra = np.zeros((steps+1,))\n",
    "wp[0] = w_0\n",
    "wa[0] = w_a0\n",
    "Qa[0] = Q_a0\n",
    "ra[0] = r_0\n",
    "Ma[0] = M_a0\n",
    "C = np.zeros((steps+1))\n",
    "C = .5\n",
    "s = np.arange(0,800,800/steps)\n",
    "\n",
    "for i,ii in enumerate(s):\n",
    "    i=i+1\n",
    "    ii=ii+s_size\n",
    "    Rep = (rho_a*(wp[i-1]-wa[i-1])*dp)/mu_a\n",
    "    Cd = 24*(1+0.15*Rep**.687)/Rep\n",
    "    Fd = rho_a*(wp[i-1]-wa[i-1])**2/2*Cd/4*np.pi*dp**2*C*6*beta_0*w_0*r_0**2/dp**3\n",
    "    \n",
    "    #print Rep, Cd, B,Fd\n",
    "    #Fd = 18*np.pi/dp**2 *beta_0*w_0*r_0*(wp[i-1]-wa[i-1])*(1+0.15*(Rep**(0.687+0j)))*mu_a\n",
    "    wp[i] = wp[i-1] + s_size/cal * (B-Fd)/(m_dot*wp[i-1])\n",
    "    Qa[i] = Qa[i-1] + s_size/cal * (2*np.pi*ra[i-1]*wa[i-1]*alpha)\n",
    "    Ma[i] = Ma[i-1] + s_size/cal * (Fd)/wp[i-1]\n",
    "    wa[i] = Ma[i]/(Qa[i]*rho_a)\n",
    "    ra[i] = np.sqrt(Ma[i]/(np.pi*wa[i]))\n",
    "    #print wp[i],Qa[i],Ma[i],wa[i],ra[i],'\\n'"
   ]
  },
  {
   "cell_type": "code",
   "execution_count": 144,
   "metadata": {},
   "outputs": [
    {
     "data": {
      "text/plain": [
       "[<matplotlib.lines.Line2D at 0x7f5d764e1bd0>]"
      ]
     },
     "execution_count": 144,
     "metadata": {},
     "output_type": "execute_result"
    },
    {
     "data": {
      "image/png": "[encoded data removed]",
      "text/plain": [
       "<matplotlib.figure.Figure at 0x7f5d60a2bfd0>"
      ]
     },
     "metadata": {
      "needs_background": "light"
     },
     "output_type": "display_data"
    }
   ],
   "source": [
    "plt.plot(wa,'k.')"
   ]
  },
  {
   "cell_type": "code",
   "execution_count": 19,
   "metadata": {},
   "outputs": [
    {
     "name": "stdout",
     "output_type": "stream",
     "text": [
      "0.0566393606186072 0.02336660901611116 0.005465197853457539 0.038737949455953574\n"
     ]
    }
   ],
   "source": [
    "i=1\n",
    "Rep = (rho_a*(wp[i-1]-wa[i-1])*dp)/mu_a\n",
    "Cd = 24/Rep*(1+0.15*(Rep**.687))\n",
    "Fd = rho_a*(wp[i-1]-wa[i-1])**2/2*Cd/4*np.pi*dp**2*C*6*beta_0*w_0*r_0**2/dp**3\n",
    "F2 = K1*(wp[i-1]-wa[i-1]**(4/3)*C)\n",
    "print Fd/C, F2/C, B-Fd, B-F2"
   ]
  },
  {
   "cell_type": "code",
   "execution_count": 18,
   "metadata": {},
   "outputs": [
    {
     "name": "stdout",
     "output_type": "stream",
     "text": [
      "22.74736841794513 14.344002044841123\n"
     ]
    }
   ],
   "source": [
    "print Cd, 10/(Rep**(2/3))"
   ]
  },
  {
   "cell_type": "code",
   "execution_count": 20,
   "metadata": {},
   "outputs": [
    {
     "data": {
      "text/plain": [
       "0.06030563148642807"
      ]
     },
     "execution_count": 20,
     "metadata": {},
     "output_type": "execute_result"
    }
   ],
   "source": [
    "s_size * (B-Fd)*1/(m_dot*wp[i-1])"
   ]
  },
  {
   "cell_type": "code",
   "execution_count": 43,
   "metadata": {},
   "outputs": [
    {
     "data": {
      "text/plain": [
       "array([0.00027778])"
      ]
     },
     "execution_count": 43,
     "metadata": {},
     "output_type": "execute_result"
    }
   ],
   "source": [
    "np.unique(np.diff(np.arange(1,800,.5)))/cal"
   ]
  },
  {
   "cell_type": "code",
   "execution_count": 35,
   "metadata": {},
   "outputs": [
    {
     "name": "stdout",
     "output_type": "stream",
     "text": [
      "1\n",
      "2\n",
      "3\n",
      "4\n",
      "5\n",
      "6\n",
      "7\n",
      "8\n",
      "9\n"
     ]
    }
   ],
   "source": [
    "for i in range(1,10):\n",
    "    print i"
   ]
  },
  {
   "cell_type": "code",
   "execution_count": 36,
   "metadata": {},
   "outputs": [
    {
     "data": {
      "text/plain": [
       "nan"
      ]
     },
     "execution_count": 36,
     "metadata": {},
     "output_type": "execute_result"
    }
   ],
   "source": [
    "wp[0]+s_size * (B-Fd)*1/(m_dot*wp[i-1])"
   ]
  },
  {
   "cell_type": "code",
   "execution_count": 82,
   "metadata": {},
   "outputs": [
    {
     "name": "stdout",
     "output_type": "stream",
     "text": [
      "0.5820958356164387 45.49473683589026 0.0621045584721 0.0566393606186072\n",
      "1.2504187891075447 0.0021984042340717214 0.0029385370744247673 1.0911577306225142 0.02927836926603552 \n",
      "\n"
     ]
    }
   ],
   "source": [
    "wp = np.zeros((steps+1,))\n",
    "wa = np.zeros((steps+1,))\n",
    "Qa = np.zeros((steps+1,))\n",
    "Ma = np.zeros((steps+1,))\n",
    "ra = np.zeros((steps+1,))\n",
    "wp[0] = w_0\n",
    "wa[0] = w_a0\n",
    "Qa[0] = Q_a0\n",
    "ra[0] = r_0\n",
    "Ma[0] = M_a0\n",
    "C = np.zeros((steps+1))\n",
    "C = 1\n",
    "steps = 800\n",
    "s_size = np.diff(np.arange(1,800,800/steps))[0]\n",
    "s = np.arange(0,800,800/steps)\n",
    "\n",
    "i=1\n",
    "#i=i+1\n",
    "#ii=ii+s_size\n",
    "Rep = (rho_a*(wp[i-1]-wa[i-1])*dp)/mu_a\n",
    "Cd = 24*(1+0.15*Rep**.687)/Rep\n",
    "Fd = rho_a*(wp[i-1]-wa[i-1])**2/2*Cd/4*np.pi*dp**2*C*6*beta_0*w_0*r_0**2/dp**3\n",
    "\n",
    "print Rep, Cd, B,Fd\n",
    "#Fd = 18*np.pi/dp**2 *beta_0*w_0*r_0*(wp[i-1]-wa[i-1])*(1+0.15*(Rep**(0.687+0j)))*mu_a\n",
    "wp[i] = wp[i-1] + s_size/cal * (B-Fd)/(m_dot*wp[i-1])\n",
    "Qa[i] = Qa[i-1] + s_size/cal * (2*np.pi*ra[i-1]*wa[i-1]*alpha)\n",
    "Ma[i] = Ma[i-1] + s_size/cal * (Fd)/wp[i-1]\n",
    "wa[i] = Ma[i]/(Qa[i]*rho_a)\n",
    "ra[i] = np.sqrt(Ma[i]/(np.pi*wa[i]))\n",
    "print wp[i],Qa[i],Ma[i],wa[i],ra[i],'\\n'"
   ]
  },
  {
   "cell_type": "code",
   "execution_count": 81,
   "metadata": {},
   "outputs": [
    {
     "data": {
      "text/plain": [
       "1.0"
      ]
     },
     "execution_count": 81,
     "metadata": {},
     "output_type": "execute_result"
    }
   ],
   "source": []
  },
  {
   "cell_type": "code",
   "execution_count": null,
   "metadata": {},
   "outputs": [],
   "source": []
  }
 ],
 "metadata": {
  "kernelspec": {
   "display_name": "Python 2",
   "language": "python",
   "name": "python2"
  },
  "language_info": {
   "codemirror_mode": {
    "name": "ipython",
    "version": 2
   },
   "file_extension": ".py",
   "mimetype": "text/x-python",
   "name": "python",
   "nbconvert_exporter": "python",
   "pygments_lexer": "ipython2",
   "version": "2.7.14"
  }
 },
 "nbformat": 4,
 "nbformat_minor": 2
}
